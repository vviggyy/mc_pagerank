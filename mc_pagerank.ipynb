{
 "cells": [
  {
   "cell_type": "markdown",
   "id": "3e40dc2b",
   "metadata": {},
   "source": [
    "## Monte Carlo Methods to Estimate and Optimize PageRank\n",
    "#### EN.553.433 Monte Carlo Methods: Final Project\n",
    "#### Viggy Vanchinathan, May 2025"
   ]
  },
  {
   "cell_type": "markdown",
   "id": "6c385d1a",
   "metadata": {},
   "source": []
  }
 ],
 "metadata": {
  "kernelspec": {
   "display_name": "base",
   "language": "python",
   "name": "python3"
  },
  "language_info": {
   "name": "python",
   "version": "3.10.10"
  }
 },
 "nbformat": 4,
 "nbformat_minor": 5
}
