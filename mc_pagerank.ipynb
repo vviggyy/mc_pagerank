{
 "cells": [
  {
   "cell_type": "markdown",
   "id": "3e40dc2b",
   "metadata": {},
   "source": [
    "## Monte Carlo Methods to Estimate and Optimize PageRank\n",
    "#### EN.553.433 Monte Carlo Methods: Final Project\n",
    "#### Viggy Vanchinathan, May 2025\n",
    "\n",
    "__Abstract__: PageRank is arguably the single most important algorithm of the modern Information age, generating billions in revenue for Google and changing the way we interacted with the Internet forever. Despite it's reach, the algorithm is remarkably simple, essentially modeling the millions of pages on the World Wide Web as a Markov Chain, and ranking pages based on their normalized probability in it's stationary distribution. Here, we demonstrate the use of Monte Carlo methods to estimate PageRank on a few examples, with a few extension points for optimization of the algorithm. \n",
    "\n",
    "__Introduction__\n",
    "\n",
    "PageRank was introduced in the seminal 1998 whitepaper: *The PageRank Citation Ranking: Bringing Order to the Web*. In the 90s, the number of webpages on the World Wide Web was growing exponentially doubling every year, leading to an increased demand for an intuitive, accurate, and fast way to search for relevant content. There were manual indexes of sites maintained (such as Yahoo), but, because they were manual, were cumbersome and slow to update. Search engines were tools build to query the wealth of pages being indexed. Many (such as Altavista) existed, but often failed to return results that matched the search query. \n",
    "\n",
    "Lawrence Page, Sergey Brin, Rajeev Motwani, and Terry Winograd, Computer Science PhDs, introduced a new and improved search engine, Google, alongside a new algorithm they used to rank the importance of webpages effectively, PageRank. This algorithm alone won them a competitive spot in the \"Browser War\" of the early 2000s, catapulting them to fame. Today, Alphabet, the parent holding company of Google, is worth approximately $1.84 trillion dollars.\n",
    "\n",
    "PageRank itself ties closely "
   ]
  },
  {
   "cell_type": "markdown",
   "id": "6c385d1a",
   "metadata": {},
   "source": [
    "#### References\n",
    "1. [The PageRank Citation Ranking: Bringing Order to the Web](https://www.cis.upenn.edu/~mkearns/teaching/NetworkedLife/pagerank.pdf) (original technical whitepaper written by Lawrence Page, Sergey Brin, Rajeev Motwani, and Terry Winograd)\n",
    "2. [The Anatomy of a Large-Scale Hypertextual Web Search Engine](https://snap.stanford.edu/class/cs224w-readings/Brin98Anatomy.pdf) (paper introducing Google Search Engine itself)\n",
    "3. [How we got from 1 to 162 million websites on the Internet](https://www.pingdom.com/blog/how-we-got-from-1-to-162-million-websites-on-the-internet/)\n",
    "4. [Browser Wars (Wikipedia)](https://en.wikipedia.org/wiki/Browser_wars)\n",
    "\n",
    "I also watched a few YouTube videos to make sure my intuitive understanding lined up with the more formal setup:\n",
    "\n",
    "[x] [How Google's PageRank Algorithm Works](https://youtu.be/meonLcN7LD4?si=K8h-H7--f47u5bOB)\n"
   ]
  },
  {
   "cell_type": "markdown",
   "id": "00d08c30",
   "metadata": {},
   "source": []
  }
 ],
 "metadata": {
  "kernelspec": {
   "display_name": "base",
   "language": "python",
   "name": "python3"
  },
  "language_info": {
   "name": "python",
   "version": "3.10.10"
  }
 },
 "nbformat": 4,
 "nbformat_minor": 5
}
